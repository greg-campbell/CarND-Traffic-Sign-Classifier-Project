{
 "cells": [
  {
   "cell_type": "markdown",
   "metadata": {},
   "source": [
    "# Self-Driving Car Engineer Nanodegree\n",
    "\n",
    "## Deep Learning\n",
    "\n",
    "## Project: Build a Traffic Sign Recognition Classifier\n",
    "\n",
    "In this notebook, a template is provided for you to implement your functionality in stages which is required to successfully complete this project. If additional code is required that cannot be included in the notebook, be sure that the Python code is successfully imported and included in your submission, if necessary. Sections that begin with **'Implementation'** in the header indicate where you should begin your implementation for your project. Note that some sections of implementation are optional, and will be marked with **'Optional'** in the header.\n",
    "\n",
    "In addition to implementing code, there will be questions that you must answer which relate to the project and your implementation. Each section where you will answer a question is preceded by a **'Question'** header. Carefully read each question and provide thorough answers in the following text boxes that begin with **'Answer:'**. Your project submission will be evaluated based on your answers to each of the questions and the implementation you provide.\n",
    "\n",
    ">**Note:** Code and Markdown cells can be executed using the **Shift + Enter** keyboard shortcut. In addition, Markdown cells can be edited by typically double-clicking the cell to enter edit mode."
   ]
  },
  {
   "cell_type": "markdown",
   "metadata": {},
   "source": [
    "---\n",
    "## Step 0: Load The Data"
   ]
  },
  {
   "cell_type": "code",
   "execution_count": 1,
   "metadata": {
    "collapsed": false
   },
   "outputs": [],
   "source": [
    "# Load pickled data\n",
    "import pickle\n",
    "\n",
    "# TODO: Fill this in based on where you saved the training and testing data\n",
    "\n",
    "import os\n",
    "import zipfile\n",
    "import urllib.request\n",
    "\n",
    "training_file = './data/train.p'\n",
    "testing_file = './data/test.p'\n",
    "url = 'https://d17h27t6h515a5.cloudfront.net/topher/2016/November/581faac4_traffic-signs-data/traffic-signs-data.zip'\n",
    "\n",
    "if not os.path.isfile(training_file):\n",
    "    data_dir = os.path.dirname(training_file)\n",
    "    if not os.path.exists(data_dir):\n",
    "        os.makedirs(data_dir)\n",
    "    zip_file = os.path.join(data_dir, 'traffic-signs-data.zip')\n",
    "    \n",
    "    print('Downloading file...')\n",
    "    urllib.request.urlretrieve(url, zip_file)\n",
    "    \n",
    "    print('Unzipping file...')\n",
    "    with zipfile.ZipFile(zip_file, \"r\") as zip_ref:\n",
    "        zip_ref.extractall(data_dir)\n",
    "        \n",
    "    print('Done')\n",
    "        \n",
    "assert(os.path.isfile(training_file))\n",
    "assert(os.path.isfile(testing_file))\n",
    "\n",
    "with open(training_file, mode='rb') as f:\n",
    "    train = pickle.load(f)\n",
    "with open(testing_file, mode='rb') as f:\n",
    "    test = pickle.load(f)\n",
    "    \n",
    "X_train, y_train = train['features'], train['labels']\n",
    "X_test, y_test = test['features'], test['labels']"
   ]
  },
  {
   "cell_type": "markdown",
   "metadata": {},
   "source": [
    "---\n",
    "\n",
    "## Step 1: Dataset Summary & Exploration\n",
    "\n",
    "The pickled data is a dictionary with 4 key/value pairs:\n",
    "\n",
    "- `'features'` is a 4D array containing raw pixel data of the traffic sign images, (num examples, width, height, channels).\n",
    "- `'labels'` is a 2D array containing the label/class id of the traffic sign. The file `signnames.csv` contains id -> name mappings for each id.\n",
    "- `'sizes'` is a list containing tuples, (width, height) representing the the original width and height the image.\n",
    "- `'coords'` is a list containing tuples, (x1, y1, x2, y2) representing coordinates of a bounding box around the sign in the image. **THESE COORDINATES ASSUME THE ORIGINAL IMAGE. THE PICKLED DATA CONTAINS RESIZED VERSIONS (32 by 32) OF THESE IMAGES**\n",
    "\n",
    "Complete the basic data summary below."
   ]
  },
  {
   "cell_type": "code",
   "execution_count": 2,
   "metadata": {
    "collapsed": false
   },
   "outputs": [
    {
     "name": "stdout",
     "output_type": "stream",
     "text": [
      "32\n",
      "32\n",
      "[ 0  0  0 ..., 42 42 42]\n"
     ]
    }
   ],
   "source": [
    "print(len(X_train[0]))\n",
    "print(len(X_train[0][0]))\n",
    "print(y_train)"
   ]
  },
  {
   "cell_type": "code",
   "execution_count": 3,
   "metadata": {
    "collapsed": false
   },
   "outputs": [
    {
     "name": "stdout",
     "output_type": "stream",
     "text": [
      "Number of training examples = 39209\n",
      "Number of testing examples = 12630\n",
      "Image data shape = (32, 32, 3)\n",
      "Number of classes = 43\n"
     ]
    }
   ],
   "source": [
    "### Replace each question mark with the appropriate value.\n",
    "\n",
    "# TODO: Number of training examples\n",
    "n_train = len(X_train)\n",
    "\n",
    "# TODO: Number of testing examples.\n",
    "n_test = len(X_test)\n",
    "\n",
    "# TODO: What's the shape of an traffic sign image?\n",
    "image_shape = X_train[0].shape\n",
    "\n",
    "# TODO: How many unique classes/labels there are in the dataset.\n",
    "n_classes = len(set(y_train))\n",
    "\n",
    "print(\"Number of training examples =\", n_train)\n",
    "print(\"Number of testing examples =\", n_test)\n",
    "print(\"Image data shape =\", image_shape)\n",
    "print(\"Number of classes =\", n_classes)"
   ]
  },
  {
   "cell_type": "markdown",
   "metadata": {},
   "source": [
    "Visualize the German Traffic Signs Dataset using the pickled file(s). This is open ended, suggestions include: plotting traffic sign images, plotting the count of each sign, etc.\n",
    "\n",
    "The [Matplotlib](http://matplotlib.org/) [examples](http://matplotlib.org/examples/index.html) and [gallery](http://matplotlib.org/gallery.html) pages are a great resource for doing visualizations in Python.\n",
    "\n",
    "**NOTE:** It's recommended you start with something simple first. If you wish to do more, come back to it after you've completed the rest of the sections."
   ]
  },
  {
   "cell_type": "code",
   "execution_count": 4,
   "metadata": {
    "collapsed": false
   },
   "outputs": [],
   "source": [
    "### Data exploration visualization goes here.\n",
    "### Feel free to use as many code cells as needed.\n",
    "import matplotlib.pyplot as plt\n",
    "# Visualizations will be shown in the notebook.\n",
    "%matplotlib inline"
   ]
  },
  {
   "cell_type": "code",
   "execution_count": 5,
   "metadata": {
    "collapsed": true
   },
   "outputs": [],
   "source": [
    "from IPython.display import display as display\n",
    "from IPython.core.pylabtools import figsize, getfigs\n",
    "import math\n",
    "import matplotlib.image as mpimg\n",
    "import matplotlib.transforms as mtransforms\n",
    "import numpy as np\n",
    "import cv2"
   ]
  },
  {
   "cell_type": "code",
   "execution_count": 6,
   "metadata": {
    "collapsed": true
   },
   "outputs": [],
   "source": [
    "with open('./signnames.csv', 'r') as signnames:\n",
    "    class_defs = [line.strip().split(',') for line in signnames]\n",
    "    \n",
    "class_def_map = dict(class_defs)"
   ]
  },
  {
   "cell_type": "code",
   "execution_count": 7,
   "metadata": {
    "collapsed": true
   },
   "outputs": [],
   "source": [
    "def draw_multiple(images, title, cols = 2):\n",
    "    \"\"\" Draw multiple images with a title. \"\"\"\n",
    "    plt.close('all')\n",
    "    plt.axis('off')\n",
    "    rows = math.ceil(len(images)/cols)\n",
    "    f, axarr = plt.subplots(rows, cols, sharex='col', sharey='row')\n",
    "    DPI = f.get_dpi() / 4\n",
    "    f.set_size_inches(images[0].shape[1]*cols/float(DPI), images[0].shape[0]*rows/float(DPI))\n",
    "    for i in range(len(images)):\n",
    "        col = i % cols\n",
    "        row = math.floor(i / cols)\n",
    "        axarr[row, col].imshow(images[i], cmap='gray')\n",
    "        axarr[row, col].axis('off')\n",
    "    f.suptitle(title)\n",
    "    f.subplots_adjust(hspace=0)\n",
    "    display(f)\n",
    "    plt.close(f)\n",
    "    \n",
    "def draw(img, title):\n",
    "    \"\"\" Draw a single image with a title \"\"\"\n",
    "    f = plt.figure()\n",
    "    plt.title(title)\n",
    "    plt.imshow(img, cmap='gray')\n",
    "    display(f)\n",
    "    plt.close(f)\n"
   ]
  },
  {
   "cell_type": "code",
   "execution_count": 8,
   "metadata": {
    "collapsed": false
   },
   "outputs": [],
   "source": [
    "from textwrap import wrap\n",
    "\n",
    "def get_n_random_images_with_class_c(n, c):\n",
    "    indices = [a for a in range(len(y_train)) if y_train[a] == c]\n",
    "    selected_indices = np.random.choice(indices, size=(n,))\n",
    "    selected_images = X_train[selected_indices,:,:,:]\n",
    "    return selected_images\n",
    "\n",
    "def draw_n_images_of_each_class(n):\n",
    "    plt.close('all')\n",
    "    plt.axis('off')\n",
    "    cols = n\n",
    "    rows = n_classes\n",
    "    images = []\n",
    "    for i in range(n_classes):\n",
    "        images.extend(get_n_random_images_with_class_c(n, i))\n",
    "    f, axarr = plt.subplots(rows, cols, sharex='col', sharey='row')\n",
    "    DPI = f.get_dpi()\n",
    "    f.set_size_inches(64*cols/float(DPI) + 3 , 64*rows/float(DPI))\n",
    "    plt.setp(axarr.flat, xticks=[], yticks=[])\n",
    "    for i in range(len(images)):\n",
    "        col = i % cols\n",
    "        row = math.floor(i / cols)\n",
    "        axarr[row, col].imshow(images[i], cmap='gray')\n",
    "        axarr[row, col].spines['top'].set_visible(False)\n",
    "        axarr[row, col].spines['right'].set_visible(False)\n",
    "        axarr[row, col].spines['bottom'].set_visible(False)\n",
    "        axarr[row, col].spines['left'].set_visible(False)\n",
    "    for ax, ve in zip(axarr[0], range(n)):\n",
    "        ax.set_title('{0}'.format(ve))\n",
    "    for ax, c in zip(axarr[:, 0], range(n_classes)):\n",
    "        label = '{0} : {1}'.format(c, class_def_map[str(c)])\n",
    "        ax.set_ylabel('\\n'.join(wrap(label, 20)), rotation = 0, horizontalalignment='right', verticalalignment='center')\n",
    "    f.subplots_adjust(hspace=0.001, wspace= 0.001)\n",
    "    plt.tight_layout()\n",
    "    f.subplots_adjust(hspace=0.001, wspace= 0.001)\n",
    "\n",
    "    display(f)\n",
    "    plt.close(f)\n",
    "    \n",
    "#draw_n_images_of_each_class(5)"
   ]
  },
  {
   "cell_type": "code",
   "execution_count": 9,
   "metadata": {
    "collapsed": false
   },
   "outputs": [],
   "source": [
    "import random\n",
    "import numpy as np\n",
    "\n",
    "def get_random_image():\n",
    "  index = random.randint(0, len(X_train))\n",
    "  image = X_train[index].squeeze()\n",
    "  return image\n",
    "\n",
    "def scale(img, scale):\n",
    "    return rotate(img, 0, scale)\n",
    "\n",
    "def rotate(img, angle, scale = 1.0):\n",
    "    center = tuple(np.array(img.shape[0:2])/2)\n",
    "    rotation_matrix = cv2.getRotationMatrix2D(center, angle, scale)\n",
    "    return cv2.warpAffine(img, rotation_matrix, img.shape[0:2])\n",
    "\n",
    "def translate(img, x, y):\n",
    "    M = np.float32([[1, 0, x], [0, 1, y]])\n",
    "    return cv2.warpAffine(img, M, img.shape[0:2])\n",
    "\n",
    "def shear(img, x, y):\n",
    "    M = np.float32([[1, math.tan(x), 0], [math.tan(y), 1, 0]])\n",
    "    return cv2.warpAffine(img, M, img.shape[0:2])\n",
    "\n",
    "clahe = cv2.createCLAHE(clipLimit=2.0, tileGridSize=(4,4))\n",
    "def clahe_l(img):\n",
    "    lab = cv2.cvtColor(img, cv2.COLOR_BGR2LAB)\n",
    "    l, a, b = cv2.split(lab)\n",
    "    cl = clahe.apply(l)\n",
    "    limg = cv2.merge((cl, a, b))\n",
    "    final = cv2.cvtColor(limg, cv2.COLOR_LAB2BGR)\n",
    "    return final\n",
    "\n",
    "def clahe_rgb(img):\n",
    "    r, g, b = cv2.split(img)\n",
    "    cr = clahe.apply(r)\n",
    "    cg = clahe.apply(g)\n",
    "    cb = clahe.apply(b)\n",
    "    final = cv2.merge((cr, cg, cb))\n",
    "    return final\n",
    "\n",
    "def draw_polygon(img, pts, color, alpha):\n",
    "    pts = pts.reshape((-1, 1, 2))\n",
    "    hull = cv2.convexHull(pts)\n",
    "    copy = img.copy()\n",
    "    cv2.fillPoly(copy, [hull], color)\n",
    "    return cv2.addWeighted(copy, alpha, img, 1-alpha, 0)\n",
    "\n",
    "def hls_transform(img, h, l, s):\n",
    "    hls = cv2.cvtColor(img, cv2.COLOR_BGR2HLS)\n",
    "    hls[..., 0] = (hls[..., 0]+h)\n",
    "    hls[..., 1] = (hls[..., 1]+l)\n",
    "    hls[..., 2] = (hls[..., 2]+s)\n",
    "    rgb = cv2.cvtColor(hls, cv2.COLOR_HLS2BGR)\n",
    "    return rgb\n",
    "\n",
    "def motion_blur(img, amount):\n",
    "    kernel = np.zeros((amount, amount))\n",
    "    kernel[int((amount-1)/2), :] = np.ones(amount)\n",
    "    kernel = kernel / amount\n",
    "    return cv2.filter2D(img, -1, kernel)\n",
    "\n",
    "def change_brightness(img, amount):\n",
    "    hsv = cv2.cvtColor(img, cv2.COLOR_BGR2HSV)\n",
    "    hsv[:,:,2] += amount\n",
    "    return cv2.cvtColor(hsv, cv2.COLOR_HSV2BGR)\n",
    "\n",
    "def adjust_gamma(img, gamma=1.0):\n",
    "    invGamma = 1.0 / gamma\n",
    "    table = np.array([((i / 255.0) ** invGamma) * 255\n",
    "        for i in np.arange(0, 256)]).astype(\"uint8\")\n",
    "    return cv2.LUT(img, table)\n",
    "\n",
    "SCALE_PROB = 0.15\n",
    "ROTATE_PROB = 0.15\n",
    "TRANSLATE_PROB = 0.15\n",
    "SHEAR_PROB = 0.1\n",
    "POLYGON_PROB = 0.10\n",
    "HLS_PROB = 0.0\n",
    "BLUR_PROB = 0.05\n",
    "CHANGE_BRIGHTNESS_PROB = 0.2\n",
    "def augment(img):\n",
    "    output = img\n",
    "    if np.random.rand() < SCALE_PROB:\n",
    "        output = scale(output, random.uniform(0.8, 1.2))\n",
    "    if np.random.rand() < ROTATE_PROB:\n",
    "        output = rotate(output, np.deg2rad(random.uniform(-10, 10)))\n",
    "    if np.random.rand() < TRANSLATE_PROB:\n",
    "        output = translate(output, random.randint(-3, 3), random.randint(-3, 3))\n",
    "    if np.random.rand() < SHEAR_PROB:\n",
    "        output = shear(output, np.deg2rad(random.uniform(-12, 12)), np.deg2rad(random.uniform(-12, 12)))\n",
    "    if np.random.rand() < POLYGON_PROB:\n",
    "        color = (10, 10, 10)\n",
    "        pts = np.array([[random.randint(0, 32), random.randint(0, 32)], [random.randint(0, 32), random.randint(0, 32)],\n",
    "                        [random.randint(0, 32), random.randint(0, 32)], [random.randint(0, 32), random.randint(0, 32)]],\n",
    "                        np.int32)\n",
    "        output = draw_polygon(output, pts, color,\n",
    "                              random.uniform(0.1, 0.8))\n",
    "    if np.random.rand() < HLS_PROB:\n",
    "        output = hls_transform(output, random.randint(0, 10), random.randint(0, 10), random.randint(0, 10))\n",
    "    if np.random.rand() < BLUR_PROB:\n",
    "        output = motion_blur(output, random.randint(1, 5))\n",
    "    if np.random.rand() < CHANGE_BRIGHTNESS_PROB:\n",
    "        output = adjust_gamma(output, random.uniform(0.8, 3.0))\n",
    "    return output\n",
    "\n",
    "def repeat_augment(img, n):\n",
    "    output = img\n",
    "    for i in range(n):\n",
    "        output = augment(output)\n",
    "    return output\n",
    "\n",
    "def augment_multiple(img, repeats, n):\n",
    "    return [repeat_augment(img, repeats) for _ in range(n)]\n",
    "\n",
    "def augment_multiple_preprocess(img, repeats, n):\n",
    "    return [preprocess(repeat_augment(img, repeats)) for _ in range(n)]\n",
    "\n",
    "def preprocess(img):\n",
    "    return clahe_rgb(img)\n",
    "\n",
    "def draw_n_augmented_images_of_each_class(n, x):\n",
    "    plt.close('all')\n",
    "    plt.axis('off')\n",
    "    cols = n + x\n",
    "    rows = n_classes\n",
    "    images = []\n",
    "    for i in range(n_classes):\n",
    "        images.extend([preprocess(img) for img in get_n_random_images_with_class_c(x, i)])\n",
    "        image = get_n_random_images_with_class_c(1, i)[0]\n",
    "        augmented_images = augment_multiple_preprocess(image, 5, n - 1)\n",
    "        images.extend([preprocess(image)])\n",
    "        images.extend(augmented_images)\n",
    "\n",
    "    f, axarr = plt.subplots(rows, cols, sharex='col', sharey='row')\n",
    "    DPI = f.get_dpi()\n",
    "    f.set_size_inches(64*cols/float(DPI) + 3 , 64*rows/float(DPI))\n",
    "    plt.setp(axarr.flat, xticks=[], yticks=[])\n",
    "    for i in range(len(images)):\n",
    "        col = i % cols\n",
    "        row = math.floor(i / cols)\n",
    "        axarr[row, col].imshow(images[i], cmap='gray')\n",
    "        axarr[row, col].spines['top'].set_visible(False)\n",
    "        axarr[row, col].spines['right'].set_visible(False)\n",
    "        axarr[row, col].spines['bottom'].set_visible(False)\n",
    "        axarr[row, col].spines['left'].set_visible(False)\n",
    "    for ax, ve in zip(axarr[0], range(cols)):\n",
    "        label = \"Base\" if ve < x else 'Aug {0}'.format(ve-x)\n",
    "        ax.set_title(label)\n",
    "    for ax, c in zip(axarr[:, 0], range(n_classes)):\n",
    "        label = '{0} : {1}'.format(c, class_def_map[str(c)])\n",
    "        ax.set_ylabel('\\n'.join(wrap(label, 20)), rotation = 0, horizontalalignment='right', verticalalignment='center')\n",
    "    f.subplots_adjust(hspace=0.001, wspace= 0.001)\n",
    "    plt.tight_layout()\n",
    "    f.subplots_adjust(hspace=0.001, wspace= 0.001)\n",
    "\n",
    "    display(f)\n",
    "    plt.close(f)\n",
    "    \n",
    "#draw_n_augmented_images_of_each_class(5, 3)\n",
    "#test_image = get_random_image()\n",
    "\n",
    "#draw(preprocess(test_image), \"Original\")\n",
    "#draw_multiple(augment_multiple_preprocess(test_image, 5, 10), \"Augmented\")\n",
    "\n"
   ]
  },
  {
   "cell_type": "markdown",
   "metadata": {},
   "source": [
    "\n",
    "----\n",
    "\n",
    "## Step 2: Design and Test a Model Architecture\n",
    "\n",
    "Design and implement a deep learning model that learns to recognize traffic signs. Train and test your model on the [German Traffic Sign Dataset](http://benchmark.ini.rub.de/?section=gtsrb&subsection=dataset).\n",
    "\n",
    "There are various aspects to consider when thinking about this problem:\n",
    "\n",
    "- Neural network architecture\n",
    "- Play around preprocessing techniques (normalization, rgb to grayscale, etc)\n",
    "- Number of examples per label (some have more than others).\n",
    "- Generate fake data.\n",
    "\n",
    "Here is an example of a [published baseline model on this problem](http://yann.lecun.com/exdb/publis/pdf/sermanet-ijcnn-11.pdf). It's not required to be familiar with the approach used in the paper but, it's good practice to try to read papers like these.\n",
    "\n",
    "**NOTE:** The LeNet-5 implementation shown in the [classroom](https://classroom.udacity.com/nanodegrees/nd013/parts/fbf77062-5703-404e-b60c-95b78b2f3f9e/modules/6df7ae49-c61c-4bb2-a23e-6527e69209ec/lessons/601ae704-1035-4287-8b11-e2c2716217ad/concepts/d4aca031-508f-4e0b-b493-e7b706120f81) at the end of the CNN lesson is a solid starting point. You'll have to change the number of classes and possibly the preprocessing, but aside from that it's plug and play!"
   ]
  },
  {
   "cell_type": "markdown",
   "metadata": {},
   "source": [
    "### Implementation\n",
    "\n",
    "Use the code cell (or multiple code cells, if necessary) to implement the first step of your project. Once you have completed your implementation and are satisfied with the results, be sure to thoroughly answer the questions that follow."
   ]
  },
  {
   "cell_type": "code",
   "execution_count": 10,
   "metadata": {
    "collapsed": true
   },
   "outputs": [],
   "source": [
    "### Preprocess the data here.\n",
    "### Feel free to use as many code cells as needed."
   ]
  },
  {
   "cell_type": "code",
   "execution_count": 11,
   "metadata": {
    "collapsed": false
   },
   "outputs": [],
   "source": [
    "#from sklearn.utils import shuffle\n",
    "#from sklearn.model_selection import train_test_split\n",
    "\n",
    "#X_train, X_validation, y_train, y_validation = train_test_split(X_train, y_train)\n",
    "#X_train, y_train = shuffle(X_train, y_train)\n",
    "\n",
    "#print(len(X_train))\n",
    "#print(len(X_validation))"
   ]
  },
  {
   "cell_type": "code",
   "execution_count": 12,
   "metadata": {
    "collapsed": false
   },
   "outputs": [],
   "source": [
    "### Generate data additional data (OPTIONAL!)\n",
    "### and split the data into training/validation/testing sets here.\n",
    "### Feel free to use as many code cells as needed.\n",
    "\n",
    "NUM_AUGMENT = 7\n",
    "\n",
    "from sklearn.utils import shuffle, resample\n",
    "from sklearn.model_selection import train_test_split\n",
    "\n",
    "X_train, X_val, y_train, y_val = train_test_split(X_train, y_train)\n",
    "\n",
    "X_train = np.vstack((X_train, np.vstack(augment_multiple(x, 2, NUM_AUGMENT) for x in X_train)))\n",
    "y_train = np.hstack((y_train, np.repeat(y_train, NUM_AUGMENT, axis=0)))\n",
    "\n",
    "X_train = np.float32([preprocess(x) for x in X_train])\n",
    "X_val = np.float32([preprocess(x) for x in X_val])\n",
    "X_test = np.float32([preprocess(x) for x in X_test])\n",
    "\n",
    "X_validation = X_val\n",
    "y_validation = y_val"
   ]
  },
  {
   "cell_type": "markdown",
   "metadata": {},
   "source": [
    "### Question 1 \n",
    "\n",
    "_Describe how you preprocessed the data. Why did you choose that technique?_"
   ]
  },
  {
   "cell_type": "markdown",
   "metadata": {},
   "source": [
    "**Answer:**"
   ]
  },
  {
   "cell_type": "code",
   "execution_count": 13,
   "metadata": {
    "collapsed": true
   },
   "outputs": [],
   "source": [
    "### Generate data additional data (OPTIONAL!)\n",
    "### and split the data into training/validation/testing sets here.\n",
    "### Feel free to use as many code cells as needed."
   ]
  },
  {
   "cell_type": "markdown",
   "metadata": {},
   "source": [
    "### Question 2\n",
    "\n",
    "_Describe how you set up the training, validation and testing data for your model. **Optional**: If you generated additional data, how did you generate the data? Why did you generate the data? What are the differences in the new dataset (with generated data) from the original dataset?_"
   ]
  },
  {
   "cell_type": "markdown",
   "metadata": {},
   "source": [
    "**Answer:**"
   ]
  },
  {
   "cell_type": "code",
   "execution_count": 14,
   "metadata": {
    "collapsed": true
   },
   "outputs": [],
   "source": [
    "### Define your architecture here.\n",
    "### Feel free to use as many code cells as needed."
   ]
  },
  {
   "cell_type": "code",
   "execution_count": 15,
   "metadata": {
    "collapsed": false
   },
   "outputs": [],
   "source": [
    "import os\n",
    "\n",
    "import tensorflow as tf\n",
    "import tensorflow.contrib.slim as slim\n",
    "from tensorflow.examples.tutorials.mnist import mnist\n",
    "EPOCHS = 25\n",
    "BATCH_SIZE = 256\n",
    "DROPOUT_KEEP_PROB = 0.7\n",
    "\n",
    "dropout_prob = tf.placeholder(tf.float32)\n",
    "def foonet(images, is_training=True):\n",
    "    net = slim.layers.conv2d(images, 8, [3,3], scope='fc1a')\n",
    "    net = slim.layers.conv2d(images, 16, [3,3], scope='fc1b')\n",
    "    net = slim.layers.max_pool2d(net, 2, 2, scope='fp1')\n",
    "    net = slim.dropout(net, dropout_prob, is_training=is_training, scope='fdropout1')\n",
    "    net = slim.layers.conv2d(net, 32, [3,3], scope='fc2a')\n",
    "    net = slim.layers.conv2d(net, 64, [3,3], scope='fc2b')\n",
    "    #Testing this:\n",
    "    b1 = slim.layers.conv2d(net, 128, [3,3], scope='fc2c')\n",
    "    b1 = slim.layers.max_pool2d(b1, 2, 2, scope='fp2')    \n",
    "    #net = slim.layers.max_pool2d(net, [2,2], 2, scope='p2')\n",
    "    b1 = slim.dropout(b1, dropout_prob, is_training=is_training, scope='fdropout2')    \n",
    "    b1 = slim.layers.flatten(b1, scope='ff3') \n",
    "    \n",
    "    b2 = slim.repeat(net, 2, slim.conv2d, 64, [3, 3], scope='fconv1')\n",
    "    b2 = slim.max_pool2d(b2, [2, 2], scope='fpool1')\n",
    "    b2 = slim.repeat(b2, 2, slim.conv2d, 128, [3, 3], scope='fconv2')\n",
    "    b2 = slim.max_pool2d(b2, [2, 2], scope='fpool2')\n",
    "    b2 = slim.repeat(b2, 4, slim.conv2d, 256, [3, 3], scope='fconv3')\n",
    "    b2 = slim.max_pool2d(b2, [2, 2], scope='fpool3')\n",
    "    b2 = slim.repeat(b2, 4, slim.conv2d, 512, [3, 3], scope='fconv4')\n",
    "    b2 = slim.max_pool2d(b2, [2, 2], scope='fpool4')\n",
    "    b2 = slim.repeat(b2, 4, slim.conv2d, 512, [3, 3], scope='fconv5')\n",
    "    #b2 = slim.max_pool2d(b2, [2, 2], scope='fpool5')\n",
    "    b2 = slim.layers.flatten(b2, scope='ffx')\n",
    "    # Use conv2d instead of fully_connected layers.\n",
    "    b2 = slim.layers.fully_connected(b2, 4096, scope='ffc6')\n",
    "    \n",
    "    b1 = slim.layers.fully_connected(b1, 1024, scope='ffully_connected4')\n",
    "    net = tf.concat([b1, b2], 3)\n",
    "    net = slim.dropout(net, dropout_prob, is_training=is_training, scope='fdrouput4')\n",
    "    net = slim.layers.fully_connected(net, 43, activation_fn=None, scope='ffully_connected5')\n",
    "    return net\n",
    "\n",
    "def lenet(images, is_training=True):\n",
    "   net = slim.layers.conv2d(images, 8, [3,3], scope='c1a')\n",
    "   net = slim.layers.conv2d(images, 16, [3,3], scope='c1b')\n",
    "   net = slim.layers.max_pool2d(net, 2, 2, scope='p1')\n",
    "   net = slim.dropout(net, dropout_prob, is_training=is_training, scope='dropout1')\n",
    "   net = slim.layers.conv2d(net, 32, [3,3], scope='c2a')\n",
    "   net = slim.layers.conv2d(net, 64, [3,3], scope='c2b')\n",
    "   #Testing this:\n",
    "   net = slim.layers.conv2d(net, 128, [3,3], scope='c2c')\n",
    "   net = slim.layers.max_pool2d(net, 2, 2, scope='p2')    \n",
    "   #net = slim.layers.max_pool2d(net, [2,2], 2, scope='p2')\n",
    "   net = slim.dropout(net, dropout_prob, is_training=is_training, scope='dropout2')    \n",
    "   net = slim.layers.flatten(net, scope='f3')\n",
    "   net = slim.layers.fully_connected(net, 1024, scope='fully_connected4')\n",
    "   net = slim.dropout(net, dropout_prob, is_training=is_training, scope='drouput4')\n",
    "   net = slim.layers.fully_connected(net, 43, activation_fn=None, scope='fully_connected5')\n",
    "   return net\n",
    "\n",
    "def vgg_19(inputs, num_classes=43, dropout_keep_prob=DROPOUT_KEEP_PROB, is_training=True, spatial_squeeze=True, scope='vgg_19'):\n",
    "  with tf.variable_scope(scope, 'vgg_19', [inputs]) as sc:\n",
    "    end_points_collection = sc.name + '_end_points'\n",
    "    # Collect outputs for conv2d, fully_connected and max_pool2d.\n",
    "    with slim.arg_scope([slim.conv2d, slim.fully_connected, slim.max_pool2d],\n",
    "                        outputs_collections=end_points_collection):\n",
    "      net = slim.repeat(inputs, 2, slim.conv2d, 64, [3, 3], scope='conv1')\n",
    "      net = slim.max_pool2d(net, [2, 2], scope='pool1')\n",
    "      net = slim.repeat(net, 2, slim.conv2d, 128, [3, 3], scope='conv2')\n",
    "      net = slim.max_pool2d(net, [2, 2], scope='pool2')\n",
    "      net = slim.repeat(net, 4, slim.conv2d, 256, [3, 3], scope='conv3')\n",
    "      net = slim.max_pool2d(net, [2, 2], scope='pool3')\n",
    "      net = slim.repeat(net, 4, slim.conv2d, 512, [3, 3], scope='conv4')\n",
    "      net = slim.max_pool2d(net, [2, 2], scope='pool4')\n",
    "      net = slim.repeat(net, 4, slim.conv2d, 512, [3, 3], scope='conv5')\n",
    "      net = slim.max_pool2d(net, [2, 2], scope='pool5')\n",
    "      # Use conv2d instead of fully_connected layers.\n",
    "      net = slim.layers.fully_connected(net, 4096, scope='fc6')\n",
    "      #net = slim.conv2d(net, 4096, [7, 7], padding='VALID', scope='fc6')\n",
    "      net = slim.dropout(net, dropout_keep_prob, is_training=is_training,\n",
    "                         scope='dropout6')\n",
    "      net = slim.conv2d(net, 4096, [1, 1], scope='fc7')\n",
    "      net = slim.dropout(net, dropout_keep_prob, is_training=is_training,\n",
    "                         scope='dropout7')\n",
    "      net = slim.conv2d(net, num_classes, [1, 1],\n",
    "                        activation_fn=None,\n",
    "                        normalizer_fn=None,\n",
    "                        scope='fc8')\n",
    "      # Convert end_points_collection into a end_point dict.\n",
    "      end_points = slim.utils.convert_collection_to_dict(end_points_collection)\n",
    "      if spatial_squeeze:\n",
    "        net = tf.squeeze(net, [1, 2], name='fc8/squeezed')\n",
    "        end_points[sc.name + '/fc8'] = net\n",
    "      return net\n",
    "vgg_19.default_image_size = 32\n",
    "\n",
    "x = tf.placeholder(tf.float32, (None, 32, 32, 3))\n",
    "y = tf.placeholder(tf.int32, (None))\n",
    "one_hot_y = tf.one_hot(y, n_classes)"
   ]
  },
  {
   "cell_type": "markdown",
   "metadata": {},
   "source": [
    "### Question 3\n",
    "\n",
    "_What does your final architecture look like? (Type of model, layers, sizes, connectivity, etc.)  For reference on how to build a deep neural network using TensorFlow, see [Deep Neural Network in TensorFlow\n",
    "](https://classroom.udacity.com/nanodegrees/nd013/parts/fbf77062-5703-404e-b60c-95b78b2f3f9e/modules/6df7ae49-c61c-4bb2-a23e-6527e69209ec/lessons/b516a270-8600-4f93-a0a3-20dfeabe5da6/concepts/83a3a2a2-a9bd-4b7b-95b0-eb924ab14432) from the classroom._\n"
   ]
  },
  {
   "cell_type": "markdown",
   "metadata": {},
   "source": [
    "**Answer:**"
   ]
  },
  {
   "cell_type": "code",
   "execution_count": 16,
   "metadata": {
    "collapsed": true
   },
   "outputs": [],
   "source": [
    "### Train your model here.\n",
    "### Feel free to use as many code cells as needed."
   ]
  },
  {
   "cell_type": "code",
   "execution_count": 17,
   "metadata": {
    "collapsed": false
   },
   "outputs": [],
   "source": [
    "rate = 0.001\n",
    "\n",
    "logits = lenet(x)\n",
    "cross_entropy = tf.nn.softmax_cross_entropy_with_logits(logits, one_hot_y)\n",
    "loss_operation = tf.reduce_mean(cross_entropy)\n",
    "optimizer = tf.train.AdamOptimizer(learning_rate = rate)\n",
    "training_operation = optimizer.minimize(loss_operation)"
   ]
  },
  {
   "cell_type": "code",
   "execution_count": 18,
   "metadata": {
    "collapsed": false
   },
   "outputs": [],
   "source": [
    "correct_prediction = tf.equal(tf.argmax(logits, 1), tf.argmax(one_hot_y, 1))\n",
    "accuracy_operation = tf.reduce_mean(tf.cast(correct_prediction, tf.float32))\n",
    "saver = tf.train.Saver()\n",
    "\n",
    "def evaluate(X_data, y_data):\n",
    "    num_examples = len(X_data)\n",
    "    total_accuracy = 0\n",
    "    sess = tf.get_default_session()\n",
    "    for offset in range(0, num_examples, BATCH_SIZE):\n",
    "        batch_x, batch_y = X_data[offset:offset+BATCH_SIZE], y_data[offset:offset+BATCH_SIZE]\n",
    "        accuracy = sess.run(accuracy_operation, feed_dict={x: batch_x, y: batch_y, dropout_prob: 1.0})\n",
    "        total_accuracy += (accuracy * len(batch_x))\n",
    "    return total_accuracy / num_examples"
   ]
  },
  {
   "cell_type": "code",
   "execution_count": 19,
   "metadata": {
    "collapsed": false
   },
   "outputs": [
    {
     "name": "stdout",
     "output_type": "stream",
     "text": [
      "01:49:50.547990\n",
      "Training...\n",
      "\n",
      "TIME 01:51:39.624289 \t EPOCH 1 \t Validation Accuracy = 0.496073\n",
      "TIME 01:53:26.446092 \t EPOCH 2 \t Validation Accuracy = 0.809344\n",
      "TIME 01:55:13.354429 \t EPOCH 3 \t Validation Accuracy = 0.977966\n",
      "TIME 01:57:00.249255 \t EPOCH 4 \t Validation Accuracy = 0.989697\n",
      "TIME 01:58:47.118328 \t EPOCH 5 \t Validation Accuracy = 0.993777\n",
      "TIME 02:00:34.110595 \t EPOCH 6 \t Validation Accuracy = 0.994287\n",
      "TIME 02:02:21.001242 \t EPOCH 7 \t Validation Accuracy = 0.995920\n",
      "TIME 02:04:07.930299 \t EPOCH 8 \t Validation Accuracy = 0.996838\n",
      "TIME 02:05:54.881216 \t EPOCH 9 \t Validation Accuracy = 0.996532\n",
      "TIME 02:07:41.732023 \t EPOCH 10 \t Validation Accuracy = 0.996226\n",
      "TIME 02:09:28.630134 \t EPOCH 11 \t Validation Accuracy = 0.998164\n",
      "TIME 02:11:15.521257 \t EPOCH 12 \t Validation Accuracy = 0.997552\n",
      "TIME 02:13:02.360464 \t EPOCH 13 \t Validation Accuracy = 0.997858\n",
      "TIME 02:14:49.278329 \t EPOCH 14 \t Validation Accuracy = 0.997450\n",
      "TIME 02:16:36.126090 \t EPOCH 15 \t Validation Accuracy = 0.997654\n",
      "TIME 02:18:22.933635 \t EPOCH 16 \t Validation Accuracy = 0.998572\n",
      "TIME 02:20:09.806521 \t EPOCH 17 \t Validation Accuracy = 0.997042\n",
      "TIME 02:21:56.671935 \t EPOCH 18 \t Validation Accuracy = 0.997042\n",
      "TIME 02:23:43.518985 \t EPOCH 19 \t Validation Accuracy = 0.997756\n",
      "TIME 02:25:30.401370 \t EPOCH 20 \t Validation Accuracy = 0.997348\n",
      "TIME 02:27:17.260403 \t EPOCH 21 \t Validation Accuracy = 0.997654\n",
      "TIME 02:29:04.069414 \t EPOCH 22 \t Validation Accuracy = 0.998470\n",
      "TIME 02:30:50.925411 \t EPOCH 23 \t Validation Accuracy = 0.997756\n",
      "TIME 02:32:37.739361 \t EPOCH 24 \t Validation Accuracy = 0.998470\n",
      "TIME 02:34:24.592400 \t EPOCH 25 \t Validation Accuracy = 0.998368\n",
      "Model saved\n"
     ]
    }
   ],
   "source": [
    "from datetime import datetime\n",
    "print(datetime.now().time())\n",
    "with tf.Session() as sess:\n",
    "    sess.run(tf.global_variables_initializer())\n",
    "    num_examples = len(X_train)\n",
    "    \n",
    "    print(\"Training...\")\n",
    "    print()\n",
    "    for i in range(EPOCHS):\n",
    "        X_train, y_train = shuffle(X_train, y_train)\n",
    "        for offset in range(0, num_examples, BATCH_SIZE):\n",
    "            end = offset + BATCH_SIZE\n",
    "            batch_x, batch_y = X_train[offset:end], y_train[offset:end]\n",
    "            sess.run(training_operation, feed_dict={x: batch_x, y: batch_y, dropout_prob: DROPOUT_KEEP_PROB})\n",
    "            \n",
    "        validation_accuracy = evaluate(X_validation, y_validation)\n",
    "        print(\"TIME {} \\t EPOCH {} \\t Validation Accuracy = {:.6f}\".format(datetime.now().time(), i+1, validation_accuracy))\n",
    "        \n",
    "    saver.save(sess, 'lenet')\n",
    "    print(\"Model saved\")"
   ]
  },
  {
   "cell_type": "markdown",
   "metadata": {},
   "source": [
    "### Question 4\n",
    "\n",
    "_How did you train your model? (Type of optimizer, batch size, epochs, hyperparameters, etc.)_\n"
   ]
  },
  {
   "cell_type": "markdown",
   "metadata": {},
   "source": [
    "**Answer:**"
   ]
  },
  {
   "cell_type": "markdown",
   "metadata": {},
   "source": [
    "### Question 5\n",
    "\n",
    "\n",
    "_What approach did you take in coming up with a solution to this problem? It may have been a process of trial and error, in which case, outline the steps you took to get to the final solution and why you chose those steps. Perhaps your solution involved an already well known implementation or architecture. In this case, discuss why you think this is suitable for the current problem._"
   ]
  },
  {
   "cell_type": "markdown",
   "metadata": {},
   "source": [
    "**Answer:**"
   ]
  },
  {
   "cell_type": "markdown",
   "metadata": {},
   "source": [
    "---\n",
    "\n",
    "## Step 3: Test a Model on New Images\n",
    "\n",
    "Take several pictures of traffic signs that you find on the web or around you (at least five), and run them through your classifier on your computer to produce example results. The classifier might not recognize some local signs but it could prove interesting nonetheless.\n",
    "\n",
    "You may find `signnames.csv` useful as it contains mappings from the class id (integer) to the actual sign name."
   ]
  },
  {
   "cell_type": "markdown",
   "metadata": {},
   "source": [
    "### Implementation\n",
    "\n",
    "Use the code cell (or multiple code cells, if necessary) to implement the first step of your project. Once you have completed your implementation and are satisfied with the results, be sure to thoroughly answer the questions that follow."
   ]
  },
  {
   "cell_type": "code",
   "execution_count": null,
   "metadata": {
    "collapsed": true
   },
   "outputs": [],
   "source": [
    "### Load the images and plot them here.\n",
    "### Feel free to use as many code cells as needed."
   ]
  },
  {
   "cell_type": "markdown",
   "metadata": {},
   "source": [
    "### Question 6\n",
    "\n",
    "_Choose five candidate images of traffic signs and provide them in the report. Are there any particular qualities of the image(s) that might make classification difficult? It could be helpful to plot the images in the notebook._\n",
    "\n"
   ]
  },
  {
   "cell_type": "markdown",
   "metadata": {},
   "source": [
    "**Answer:**"
   ]
  },
  {
   "cell_type": "code",
   "execution_count": null,
   "metadata": {
    "collapsed": true
   },
   "outputs": [],
   "source": [
    "### Run the predictions here.\n",
    "### Feel free to use as many code cells as needed."
   ]
  },
  {
   "cell_type": "markdown",
   "metadata": {},
   "source": [
    "### Question 7\n",
    "\n",
    "_Is your model able to perform equally well on captured pictures when compared to testing on the dataset? The simplest way to do this check the accuracy of the predictions. For example, if the model predicted 1 out of 5 signs correctly, it's 20% accurate._\n",
    "\n",
    "_**NOTE:** You could check the accuracy manually by using `signnames.csv` (same directory). This file has a mapping from the class id (0-42) to the corresponding sign name. So, you could take the class id the model outputs, lookup the name in `signnames.csv` and see if it matches the sign from the image._\n"
   ]
  },
  {
   "cell_type": "markdown",
   "metadata": {},
   "source": [
    "**Answer:**"
   ]
  },
  {
   "cell_type": "code",
   "execution_count": null,
   "metadata": {
    "collapsed": true
   },
   "outputs": [],
   "source": [
    "### Visualize the softmax probabilities here.\n",
    "### Feel free to use as many code cells as needed."
   ]
  },
  {
   "cell_type": "markdown",
   "metadata": {},
   "source": [
    "### Question 8\n",
    "\n",
    "*Use the model's softmax probabilities to visualize the **certainty** of its predictions, [`tf.nn.top_k`](https://www.tensorflow.org/versions/r0.12/api_docs/python/nn.html#top_k) could prove helpful here. Which predictions is the model certain of? Uncertain? If the model was incorrect in its initial prediction, does the correct prediction appear in the top k? (k should be 5 at most)*\n",
    "\n",
    "`tf.nn.top_k` will return the values and indices (class ids) of the top k predictions. So if k=3, for each sign, it'll return the 3 largest probabilities (out of a possible 43) and the correspoding class ids.\n",
    "\n",
    "Take this numpy array as an example:\n",
    "\n",
    "```\n",
    "# (5, 6) array\n",
    "a = np.array([[ 0.24879643,  0.07032244,  0.12641572,  0.34763842,  0.07893497,\n",
    "         0.12789202],\n",
    "       [ 0.28086119,  0.27569815,  0.08594638,  0.0178669 ,  0.18063401,\n",
    "         0.15899337],\n",
    "       [ 0.26076848,  0.23664738,  0.08020603,  0.07001922,  0.1134371 ,\n",
    "         0.23892179],\n",
    "       [ 0.11943333,  0.29198961,  0.02605103,  0.26234032,  0.1351348 ,\n",
    "         0.16505091],\n",
    "       [ 0.09561176,  0.34396535,  0.0643941 ,  0.16240774,  0.24206137,\n",
    "         0.09155967]])\n",
    "```\n",
    "\n",
    "Running it through `sess.run(tf.nn.top_k(tf.constant(a), k=3))` produces:\n",
    "\n",
    "```\n",
    "TopKV2(values=array([[ 0.34763842,  0.24879643,  0.12789202],\n",
    "       [ 0.28086119,  0.27569815,  0.18063401],\n",
    "       [ 0.26076848,  0.23892179,  0.23664738],\n",
    "       [ 0.29198961,  0.26234032,  0.16505091],\n",
    "       [ 0.34396535,  0.24206137,  0.16240774]]), indices=array([[3, 0, 5],\n",
    "       [0, 1, 4],\n",
    "       [0, 5, 1],\n",
    "       [1, 3, 5],\n",
    "       [1, 4, 3]], dtype=int32))\n",
    "```\n",
    "\n",
    "Looking just at the first row we get `[ 0.34763842,  0.24879643,  0.12789202]`, you can confirm these are the 3 largest probabilities in `a`. You'll also notice `[3, 0, 5]` are the corresponding indices."
   ]
  },
  {
   "cell_type": "markdown",
   "metadata": {},
   "source": [
    "**Answer:**"
   ]
  },
  {
   "cell_type": "markdown",
   "metadata": {},
   "source": [
    "> **Note**: Once you have completed all of the code implementations and successfully answered each question above, you may finalize your work by exporting the iPython Notebook as an HTML document. You can do this by using the menu above and navigating to  \\n\",\n",
    "    \"**File -> Download as -> HTML (.html)**. Include the finished document along with this notebook as your submission."
   ]
  },
  {
   "cell_type": "code",
   "execution_count": null,
   "metadata": {
    "collapsed": true
   },
   "outputs": [],
   "source": []
  }
 ],
 "metadata": {
  "anaconda-cloud": {},
  "kernelspec": {
   "display_name": "Python 3",
   "language": "python",
   "name": "python3"
  },
  "language_info": {
   "codemirror_mode": {
    "name": "ipython",
    "version": 3
   },
   "file_extension": ".py",
   "mimetype": "text/x-python",
   "name": "python",
   "nbconvert_exporter": "python",
   "pygments_lexer": "ipython3",
   "version": "3.5.2"
  },
  "widgets": {
   "state": {},
   "version": "1.1.2"
  }
 },
 "nbformat": 4,
 "nbformat_minor": 1
}
